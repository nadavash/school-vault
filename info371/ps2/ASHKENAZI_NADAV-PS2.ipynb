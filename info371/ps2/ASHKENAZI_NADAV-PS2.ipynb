{
 "cells": [
  {
   "cell_type": "markdown",
   "metadata": {},
   "source": [
    "# Problem Set 2, due April 20 at 11:59am (i.e., noon)."
   ]
  },
  {
   "cell_type": "markdown",
   "metadata": {},
   "source": [
    "## Introduction to the assignment\n",
    "\n",
    "For this assignment, you will be using data from the [Progresa program](http://en.wikipedia.org/wiki/Oportunidades), a government social assistance program in Mexico. This program, as well as the details of its impact, are described in the paper \"[School subsidies for the poor: evaluating the Mexican Progresa poverty program](http://www.sciencedirect.com/science/article/pii/S0304387803001858)\", by Paul Shultz (available on Canvas). Please familiarize yourself with the PROGRESA program before beginning this problem set, so you have a rough sense of where the data come from and how they were generated. If you just proceed into the problem set without understanding Progresa or the data, it will be very difficult!\n",
    "\n",
    "The goal of this problem set is to implement some of the basic econometric techniques that you are learning in class to measure the impact of Progresa on secondary school enrollment rates. The timeline of the program was:\n",
    "\n",
    " * Baseline survey conducted in 1997\n",
    " * Intervention begins in 1998, \"Wave 1\" of data collected in 1998\n",
    " * \"Wave 2 of data\" collected in 1999\n",
    " * Evaluation ends in 2000, at which point the control villages were treated. \n",
    " \n",
    "When you are ready, download the progresa_sample.csv data from Canvas. The data are actual data collected to evaluate the impact of the Progresa program.  In this file, each row corresponds to an observation taken for a given child for a given year. There are two years of data (1997 and 1998), and just under 40,000 children who are surveyed in each year. For each child-year observation, the following variables are collected:\n",
    "\n",
    "| Variable name | Description|\n",
    "|------|------|\n",
    "|year\t  |year in which data is collected\n",
    "|sex\t  |male = 1|\n",
    "|indig\t  |indigenous = 1|\n",
    "|dist_sec |nearest distance to a secondary school|\n",
    "|sc\t      |enrolled in school in year of survey|\n",
    "|grc      |grade enrolled|\n",
    "|fam_n    |family size|\n",
    "|min_dist |\tmin distance to an urban center|\n",
    "|dist_cap |\tmin distance to the capital|\n",
    "|poor     |\tpoor = 1|\n",
    "|progresa |treatment =1|\n",
    "|hohedu\t  |years of schooling of head of household|\n",
    "|hohwag\t  |monthly wages of head of household|\n",
    "|welfare_index|\twelfare index used to classify poor|\n",
    "|hohsex\t|gender of head of household (male=1)|\n",
    "|hohage\t|age of head of household|\n",
    "|age\t|years old|\n",
    "|folnum\t|individual id|\n",
    "|village|\tvillage id|\n",
    "|sc97\t|schooling in 1997|"
   ]
  },
  {
   "cell_type": "code",
   "execution_count": 1,
   "metadata": {
    "collapsed": false
   },
   "outputs": [
    {
     "data": {
      "text/html": [
       "<div>\n",
       "<table border=\"1\" class=\"dataframe\">\n",
       "  <thead>\n",
       "    <tr style=\"text-align: right;\">\n",
       "      <th></th>\n",
       "      <th>sex</th>\n",
       "      <th>indig</th>\n",
       "      <th>dist_sec</th>\n",
       "      <th>sc</th>\n",
       "      <th>grc</th>\n",
       "      <th>fam_n</th>\n",
       "      <th>min_dist</th>\n",
       "      <th>dist_cap</th>\n",
       "      <th>poor</th>\n",
       "      <th>progresa</th>\n",
       "      <th>hohedu</th>\n",
       "      <th>hohwag</th>\n",
       "      <th>welfare_index</th>\n",
       "      <th>hohsex</th>\n",
       "      <th>hohage</th>\n",
       "      <th>age</th>\n",
       "      <th>village</th>\n",
       "      <th>folnum</th>\n",
       "      <th>grc97</th>\n",
       "      <th>sc97</th>\n",
       "    </tr>\n",
       "    <tr>\n",
       "      <th>year</th>\n",
       "      <th></th>\n",
       "      <th></th>\n",
       "      <th></th>\n",
       "      <th></th>\n",
       "      <th></th>\n",
       "      <th></th>\n",
       "      <th></th>\n",
       "      <th></th>\n",
       "      <th></th>\n",
       "      <th></th>\n",
       "      <th></th>\n",
       "      <th></th>\n",
       "      <th></th>\n",
       "      <th></th>\n",
       "      <th></th>\n",
       "      <th></th>\n",
       "      <th></th>\n",
       "      <th></th>\n",
       "      <th></th>\n",
       "      <th></th>\n",
       "    </tr>\n",
       "  </thead>\n",
       "  <tbody>\n",
       "    <tr>\n",
       "      <th>97</th>\n",
       "      <td>0.0</td>\n",
       "      <td>0.0</td>\n",
       "      <td>4.473</td>\n",
       "      <td>1.0</td>\n",
       "      <td>7.0</td>\n",
       "      <td>7</td>\n",
       "      <td>21.168384</td>\n",
       "      <td>21.168384</td>\n",
       "      <td>pobre</td>\n",
       "      <td>0</td>\n",
       "      <td>6</td>\n",
       "      <td>0.0</td>\n",
       "      <td>583.0</td>\n",
       "      <td>1.0</td>\n",
       "      <td>35.0</td>\n",
       "      <td>13</td>\n",
       "      <td>163</td>\n",
       "      <td>1</td>\n",
       "      <td>7</td>\n",
       "      <td>1.0</td>\n",
       "    </tr>\n",
       "    <tr>\n",
       "      <th>98</th>\n",
       "      <td>0.0</td>\n",
       "      <td>0.0</td>\n",
       "      <td>4.473</td>\n",
       "      <td>1.0</td>\n",
       "      <td>8.0</td>\n",
       "      <td>7</td>\n",
       "      <td>21.168384</td>\n",
       "      <td>21.168384</td>\n",
       "      <td>pobre</td>\n",
       "      <td>0</td>\n",
       "      <td>6</td>\n",
       "      <td>0.0</td>\n",
       "      <td>583.0</td>\n",
       "      <td>1.0</td>\n",
       "      <td>35.0</td>\n",
       "      <td>14</td>\n",
       "      <td>163</td>\n",
       "      <td>1</td>\n",
       "      <td>7</td>\n",
       "      <td>1.0</td>\n",
       "    </tr>\n",
       "    <tr>\n",
       "      <th>97</th>\n",
       "      <td>1.0</td>\n",
       "      <td>0.0</td>\n",
       "      <td>4.473</td>\n",
       "      <td>1.0</td>\n",
       "      <td>6.0</td>\n",
       "      <td>7</td>\n",
       "      <td>21.168384</td>\n",
       "      <td>21.168384</td>\n",
       "      <td>pobre</td>\n",
       "      <td>0</td>\n",
       "      <td>6</td>\n",
       "      <td>0.0</td>\n",
       "      <td>583.0</td>\n",
       "      <td>1.0</td>\n",
       "      <td>35.0</td>\n",
       "      <td>12</td>\n",
       "      <td>163</td>\n",
       "      <td>2</td>\n",
       "      <td>6</td>\n",
       "      <td>1.0</td>\n",
       "    </tr>\n",
       "    <tr>\n",
       "      <th>98</th>\n",
       "      <td>1.0</td>\n",
       "      <td>0.0</td>\n",
       "      <td>4.473</td>\n",
       "      <td>1.0</td>\n",
       "      <td>7.0</td>\n",
       "      <td>7</td>\n",
       "      <td>21.168384</td>\n",
       "      <td>21.168384</td>\n",
       "      <td>pobre</td>\n",
       "      <td>0</td>\n",
       "      <td>6</td>\n",
       "      <td>0.0</td>\n",
       "      <td>583.0</td>\n",
       "      <td>1.0</td>\n",
       "      <td>35.0</td>\n",
       "      <td>13</td>\n",
       "      <td>163</td>\n",
       "      <td>2</td>\n",
       "      <td>6</td>\n",
       "      <td>1.0</td>\n",
       "    </tr>\n",
       "    <tr>\n",
       "      <th>97</th>\n",
       "      <td>0.0</td>\n",
       "      <td>0.0</td>\n",
       "      <td>4.473</td>\n",
       "      <td>1.0</td>\n",
       "      <td>2.0</td>\n",
       "      <td>7</td>\n",
       "      <td>21.168384</td>\n",
       "      <td>21.168384</td>\n",
       "      <td>pobre</td>\n",
       "      <td>0</td>\n",
       "      <td>6</td>\n",
       "      <td>0.0</td>\n",
       "      <td>583.0</td>\n",
       "      <td>1.0</td>\n",
       "      <td>35.0</td>\n",
       "      <td>8</td>\n",
       "      <td>163</td>\n",
       "      <td>3</td>\n",
       "      <td>2</td>\n",
       "      <td>1.0</td>\n",
       "    </tr>\n",
       "  </tbody>\n",
       "</table>\n",
       "</div>"
      ],
      "text/plain": [
       "      sex  indig  dist_sec   sc  grc  fam_n   min_dist   dist_cap   poor  \\\n",
       "year                                                                       \n",
       "97    0.0    0.0     4.473  1.0  7.0      7  21.168384  21.168384  pobre   \n",
       "98    0.0    0.0     4.473  1.0  8.0      7  21.168384  21.168384  pobre   \n",
       "97    1.0    0.0     4.473  1.0  6.0      7  21.168384  21.168384  pobre   \n",
       "98    1.0    0.0     4.473  1.0  7.0      7  21.168384  21.168384  pobre   \n",
       "97    0.0    0.0     4.473  1.0  2.0      7  21.168384  21.168384  pobre   \n",
       "\n",
       "     progresa  hohedu  hohwag  welfare_index  hohsex  hohage  age  village  \\\n",
       "year                                                                         \n",
       "97          0       6     0.0          583.0     1.0    35.0   13      163   \n",
       "98          0       6     0.0          583.0     1.0    35.0   14      163   \n",
       "97          0       6     0.0          583.0     1.0    35.0   12      163   \n",
       "98          0       6     0.0          583.0     1.0    35.0   13      163   \n",
       "97          0       6     0.0          583.0     1.0    35.0    8      163   \n",
       "\n",
       "      folnum  grc97  sc97  \n",
       "year                       \n",
       "97         1      7   1.0  \n",
       "98         1      7   1.0  \n",
       "97         2      6   1.0  \n",
       "98         2      6   1.0  \n",
       "97         3      2   1.0  "
      ]
     },
     "execution_count": 1,
     "metadata": {},
     "output_type": "execute_result"
    }
   ],
   "source": [
    "import IPython\n",
    "import matplotlib.pyplot as plt\n",
    "import numpy as np\n",
    "import pandas as pd\n",
    "import scipy as sp\n",
    "import statsmodels.api as sm\n",
    "import statsmodels.formula.api as smf\n",
    "\n",
    "from scipy.stats import ttest_ind\n",
    "from scipy.stats import linregress\n",
    "\n",
    "%matplotlib inline\n",
    "\n",
    "# Load progressa data from file\n",
    "progresa_df = pd.DataFrame.from_csv('progresa_sample.csv')\n",
    "progresa_df.head()"
   ]
  },
  {
   "cell_type": "markdown",
   "metadata": {},
   "source": [
    "---\n",
    "\n",
    "## Part 1: Descriptive analysis\n",
    "\n",
    "### 1.1\tSummary Statistics\n",
    "\n",
    "Present summary statistics (mean and standard deviation) for all of the demographic variables in the dataset (i.e., everything except year, folnum, village). Present these in a single table alphabetized by variable name. Do NOT simply expect the grader to scroll through your output!"
   ]
  },
  {
   "cell_type": "code",
   "execution_count": 2,
   "metadata": {
    "collapsed": false
   },
   "outputs": [
    {
     "data": {
      "text/html": [
       "<div>\n",
       "<table border=\"1\" class=\"dataframe\">\n",
       "  <thead>\n",
       "    <tr style=\"text-align: right;\">\n",
       "      <th></th>\n",
       "      <th>mean</th>\n",
       "      <th>std</th>\n",
       "    </tr>\n",
       "  </thead>\n",
       "  <tbody>\n",
       "    <tr>\n",
       "      <th>age</th>\n",
       "      <td>11.366460</td>\n",
       "      <td>3.167744</td>\n",
       "    </tr>\n",
       "    <tr>\n",
       "      <th>dist_cap</th>\n",
       "      <td>147.674452</td>\n",
       "      <td>76.063134</td>\n",
       "    </tr>\n",
       "    <tr>\n",
       "      <th>dist_sec</th>\n",
       "      <td>2.418910</td>\n",
       "      <td>2.234109</td>\n",
       "    </tr>\n",
       "    <tr>\n",
       "      <th>fam_n</th>\n",
       "      <td>7.215715</td>\n",
       "      <td>2.352900</td>\n",
       "    </tr>\n",
       "    <tr>\n",
       "      <th>grc</th>\n",
       "      <td>3.963537</td>\n",
       "      <td>2.499063</td>\n",
       "    </tr>\n",
       "    <tr>\n",
       "      <th>grc97</th>\n",
       "      <td>3.705372</td>\n",
       "      <td>2.572387</td>\n",
       "    </tr>\n",
       "    <tr>\n",
       "      <th>hohage</th>\n",
       "      <td>44.436717</td>\n",
       "      <td>11.620372</td>\n",
       "    </tr>\n",
       "    <tr>\n",
       "      <th>hohedu</th>\n",
       "      <td>2.768104</td>\n",
       "      <td>2.656106</td>\n",
       "    </tr>\n",
       "    <tr>\n",
       "      <th>hohsex</th>\n",
       "      <td>0.925185</td>\n",
       "      <td>0.263095</td>\n",
       "    </tr>\n",
       "    <tr>\n",
       "      <th>hohwag</th>\n",
       "      <td>586.985312</td>\n",
       "      <td>788.133664</td>\n",
       "    </tr>\n",
       "    <tr>\n",
       "      <th>indig</th>\n",
       "      <td>0.298324</td>\n",
       "      <td>0.457525</td>\n",
       "    </tr>\n",
       "    <tr>\n",
       "      <th>min_dist</th>\n",
       "      <td>103.447520</td>\n",
       "      <td>42.089441</td>\n",
       "    </tr>\n",
       "    <tr>\n",
       "      <th>sc</th>\n",
       "      <td>0.819818</td>\n",
       "      <td>0.384342</td>\n",
       "    </tr>\n",
       "    <tr>\n",
       "      <th>sc97</th>\n",
       "      <td>0.813922</td>\n",
       "      <td>0.389172</td>\n",
       "    </tr>\n",
       "    <tr>\n",
       "      <th>sex</th>\n",
       "      <td>0.512211</td>\n",
       "      <td>0.499854</td>\n",
       "    </tr>\n",
       "    <tr>\n",
       "      <th>welfare_index</th>\n",
       "      <td>690.346564</td>\n",
       "      <td>139.491130</td>\n",
       "    </tr>\n",
       "  </tbody>\n",
       "</table>\n",
       "</div>"
      ],
      "text/plain": [
       "                     mean         std\n",
       "age             11.366460    3.167744\n",
       "dist_cap       147.674452   76.063134\n",
       "dist_sec         2.418910    2.234109\n",
       "fam_n            7.215715    2.352900\n",
       "grc              3.963537    2.499063\n",
       "grc97            3.705372    2.572387\n",
       "hohage          44.436717   11.620372\n",
       "hohedu           2.768104    2.656106\n",
       "hohsex           0.925185    0.263095\n",
       "hohwag         586.985312  788.133664\n",
       "indig            0.298324    0.457525\n",
       "min_dist       103.447520   42.089441\n",
       "sc               0.819818    0.384342\n",
       "sc97             0.813922    0.389172\n",
       "sex              0.512211    0.499854\n",
       "welfare_index  690.346564  139.491130"
      ]
     },
     "execution_count": 2,
     "metadata": {},
     "output_type": "execute_result"
    }
   ],
   "source": [
    "non_dem_keys = ['folnum', 'village']\n",
    "summary_df = pd.DataFrame({\n",
    "        'mean': progresa_df.drop(non_dem_keys, 1).mean(),\n",
    "        'std': progresa_df.drop(non_dem_keys, 1).std()\n",
    "    })\n",
    "summary_df.sort_index()"
   ]
  },
  {
   "cell_type": "markdown",
   "metadata": {},
   "source": [
    "### 1.2 Differences at baseline?\n",
    "\n",
    "Are the baseline (1997) demographic characteristics **for the poor**  different in treatment and control villages? Hint: Use a T-Test to determine whether there is a statistically significant difference in the average values of each of the variables in the dataset. Focus only on the data from 1997 for individuals who are poor (i.e., poor=='pobre').\n",
    "\n",
    "Present your results in a single table with the following columns and 14 (or so) rows:\n",
    "\n",
    "| Variable name | Average value (Treatment villages) | Average value (Control villages) | Difference (Treat - Control) | p-value |\n",
    "|------|------|------|------|------|\n",
    "|Male|?|?|?|?|\n"
   ]
  },
  {
   "cell_type": "code",
   "execution_count": 3,
   "metadata": {
    "collapsed": false,
    "scrolled": false
   },
   "outputs": [
    {
     "data": {
      "text/html": [
       "<div>\n",
       "<table border=\"1\" class=\"dataframe\">\n",
       "  <thead>\n",
       "    <tr style=\"text-align: right;\">\n",
       "      <th></th>\n",
       "      <th>Average value (Treatment villages)</th>\n",
       "      <th>Average value (Control villages)</th>\n",
       "      <th>Difference (Treat - Control)</th>\n",
       "      <th>p-value</th>\n",
       "    </tr>\n",
       "    <tr>\n",
       "      <th>Variable name</th>\n",
       "      <th></th>\n",
       "      <th></th>\n",
       "      <th></th>\n",
       "      <th></th>\n",
       "    </tr>\n",
       "  </thead>\n",
       "  <tbody>\n",
       "    <tr>\n",
       "      <th>age</th>\n",
       "      <td>10.716991</td>\n",
       "      <td>10.742023</td>\n",
       "      <td>-0.025032</td>\n",
       "      <td>4.785594e-01</td>\n",
       "    </tr>\n",
       "    <tr>\n",
       "      <th>dist_cap</th>\n",
       "      <td>150.829074</td>\n",
       "      <td>153.769730</td>\n",
       "      <td>-2.940656</td>\n",
       "      <td>8.415005e-04</td>\n",
       "    </tr>\n",
       "    <tr>\n",
       "      <th>dist_sec</th>\n",
       "      <td>2.453122</td>\n",
       "      <td>2.507662</td>\n",
       "      <td>-0.054540</td>\n",
       "      <td>3.569843e-02</td>\n",
       "    </tr>\n",
       "    <tr>\n",
       "      <th>fam_n</th>\n",
       "      <td>7.281327</td>\n",
       "      <td>7.302469</td>\n",
       "      <td>-0.021142</td>\n",
       "      <td>4.271039e-01</td>\n",
       "    </tr>\n",
       "    <tr>\n",
       "      <th>grc</th>\n",
       "      <td>3.531599</td>\n",
       "      <td>3.543050</td>\n",
       "      <td>-0.011450</td>\n",
       "      <td>6.890151e-01</td>\n",
       "    </tr>\n",
       "    <tr>\n",
       "      <th>grc97</th>\n",
       "      <td>3.531599</td>\n",
       "      <td>3.543050</td>\n",
       "      <td>-0.011450</td>\n",
       "      <td>6.890151e-01</td>\n",
       "    </tr>\n",
       "    <tr>\n",
       "      <th>hohage</th>\n",
       "      <td>43.648828</td>\n",
       "      <td>44.276918</td>\n",
       "      <td>-0.628090</td>\n",
       "      <td>1.796243e-06</td>\n",
       "    </tr>\n",
       "    <tr>\n",
       "      <th>hohedu</th>\n",
       "      <td>2.663139</td>\n",
       "      <td>2.590348</td>\n",
       "      <td>0.072791</td>\n",
       "      <td>1.105093e-02</td>\n",
       "    </tr>\n",
       "    <tr>\n",
       "      <th>hohsex</th>\n",
       "      <td>0.924656</td>\n",
       "      <td>0.922947</td>\n",
       "      <td>0.001709</td>\n",
       "      <td>5.711858e-01</td>\n",
       "    </tr>\n",
       "    <tr>\n",
       "      <th>hohwag</th>\n",
       "      <td>544.339544</td>\n",
       "      <td>573.163558</td>\n",
       "      <td>-28.824015</td>\n",
       "      <td>3.253835e-04</td>\n",
       "    </tr>\n",
       "    <tr>\n",
       "      <th>indig</th>\n",
       "      <td>0.325986</td>\n",
       "      <td>0.332207</td>\n",
       "      <td>-0.006222</td>\n",
       "      <td>2.453603e-01</td>\n",
       "    </tr>\n",
       "    <tr>\n",
       "      <th>min_dist</th>\n",
       "      <td>107.152915</td>\n",
       "      <td>103.237854</td>\n",
       "      <td>3.915060</td>\n",
       "      <td>2.358312e-16</td>\n",
       "    </tr>\n",
       "    <tr>\n",
       "      <th>sc</th>\n",
       "      <td>0.822697</td>\n",
       "      <td>0.815186</td>\n",
       "      <td>0.007511</td>\n",
       "      <td>9.517806e-02</td>\n",
       "    </tr>\n",
       "    <tr>\n",
       "      <th>sc97</th>\n",
       "      <td>0.822697</td>\n",
       "      <td>0.815186</td>\n",
       "      <td>0.007511</td>\n",
       "      <td>9.517806e-02</td>\n",
       "    </tr>\n",
       "    <tr>\n",
       "      <th>sex</th>\n",
       "      <td>0.519317</td>\n",
       "      <td>0.505052</td>\n",
       "      <td>0.014265</td>\n",
       "      <td>1.219172e-02</td>\n",
       "    </tr>\n",
       "    <tr>\n",
       "      <th>welfare_index</th>\n",
       "      <td>655.428377</td>\n",
       "      <td>659.579100</td>\n",
       "      <td>-4.150723</td>\n",
       "      <td>1.431016e-03</td>\n",
       "    </tr>\n",
       "  </tbody>\n",
       "</table>\n",
       "</div>"
      ],
      "text/plain": [
       "               Average value (Treatment villages)  \\\n",
       "Variable name                                       \n",
       "age                                     10.716991   \n",
       "dist_cap                               150.829074   \n",
       "dist_sec                                 2.453122   \n",
       "fam_n                                    7.281327   \n",
       "grc                                      3.531599   \n",
       "grc97                                    3.531599   \n",
       "hohage                                  43.648828   \n",
       "hohedu                                   2.663139   \n",
       "hohsex                                   0.924656   \n",
       "hohwag                                 544.339544   \n",
       "indig                                    0.325986   \n",
       "min_dist                               107.152915   \n",
       "sc                                       0.822697   \n",
       "sc97                                     0.822697   \n",
       "sex                                      0.519317   \n",
       "welfare_index                          655.428377   \n",
       "\n",
       "               Average value (Control villages)  Difference (Treat - Control)  \\\n",
       "Variable name                                                                   \n",
       "age                                   10.742023                     -0.025032   \n",
       "dist_cap                             153.769730                     -2.940656   \n",
       "dist_sec                               2.507662                     -0.054540   \n",
       "fam_n                                  7.302469                     -0.021142   \n",
       "grc                                    3.543050                     -0.011450   \n",
       "grc97                                  3.543050                     -0.011450   \n",
       "hohage                                44.276918                     -0.628090   \n",
       "hohedu                                 2.590348                      0.072791   \n",
       "hohsex                                 0.922947                      0.001709   \n",
       "hohwag                               573.163558                    -28.824015   \n",
       "indig                                  0.332207                     -0.006222   \n",
       "min_dist                             103.237854                      3.915060   \n",
       "sc                                     0.815186                      0.007511   \n",
       "sc97                                   0.815186                      0.007511   \n",
       "sex                                    0.505052                      0.014265   \n",
       "welfare_index                        659.579100                     -4.150723   \n",
       "\n",
       "                    p-value  \n",
       "Variable name                \n",
       "age            4.785594e-01  \n",
       "dist_cap       8.415005e-04  \n",
       "dist_sec       3.569843e-02  \n",
       "fam_n          4.271039e-01  \n",
       "grc            6.890151e-01  \n",
       "grc97          6.890151e-01  \n",
       "hohage         1.796243e-06  \n",
       "hohedu         1.105093e-02  \n",
       "hohsex         5.711858e-01  \n",
       "hohwag         3.253835e-04  \n",
       "indig          2.453603e-01  \n",
       "min_dist       2.358312e-16  \n",
       "sc             9.517806e-02  \n",
       "sc97           9.517806e-02  \n",
       "sex            1.219172e-02  \n",
       "welfare_index  1.431016e-03  "
      ]
     },
     "execution_count": 3,
     "metadata": {},
     "output_type": "execute_result"
    }
   ],
   "source": [
    "exp_groups = progresa_df[progresa_df.poor == 'pobre'].ix[97].drop(non_dem_keys, 1).groupby(['progresa'])\n",
    "control_group = exp_groups.get_group('0')\n",
    "treatment_group = exp_groups.get_group('basal')\n",
    "\n",
    "ttest_results = {\n",
    "    col: ttest_ind(treatment_group[col].values,\n",
    "              control_group[col].values, \n",
    "              nan_policy='omit').pvalue\n",
    "    for col in control_group.columns.drop(['poor', 'progresa'])\n",
    "}\n",
    "\n",
    "baseline_df = pd.DataFrame({\n",
    "        'Average value (Treatment villages)': treatment_group.mean(),\n",
    "        'Average value (Control villages)': control_group.mean(),\n",
    "        'Difference (Treat - Control)': treatment_group.mean() - control_group.mean(),\n",
    "        'p-value': ttest_results,\n",
    "    })\n",
    "baseline_df.index.name = 'Variable name'\n",
    "baseline_df[['Average value (Treatment villages)', \n",
    "             'Average value (Control villages)',\n",
    "             'Difference (Treat - Control)',\n",
    "             'p-value']]"
   ]
  },
  {
   "cell_type": "markdown",
   "metadata": {},
   "source": [
    "### 1.3 Interpretation\n",
    "\n",
    "* A: Are there statistically significant differences between treatment and control villages as baseline? \n",
    "* B: Why does it matter if there are differences at baseline?\n",
    "* C: What does this imply about how to measure the impact of the treatment?"
   ]
  },
  {
   "cell_type": "markdown",
   "metadata": {},
   "source": [
    " - A: There are a few statistically significant differences between treatmennt and control villages at the baseline. Specifically, dist_cap (minimum distance to the capital), dist_sec (distance to nearest secondary school), hohage (age of head of household), hohedu (years of schooling of head of household), hohwag (monthly wages of head of household), min_dist (min distance to an urban center), sex, and welfare index all seem to have a statistically significant difference.\n",
    " - B: We want to make sure to have effective random selection by ensuring that our sample groups look as demographically similar as possible. This allows us to achieve strong internal validity. Differences within our groups could have an effect on the impact we measure between our treatment and control groups.\n",
    " - C: The differences between treatment and control imply that we have to attempt to measure how those variables effect impact as well. For example, when calculating regression we would have to apply double difference methods in order to account for their effect and not just unknown error."
   ]
  },
  {
   "cell_type": "markdown",
   "metadata": {},
   "source": [
    "### 1.4 Graphical exploration, part 1\n",
    "\n",
    "For each level of household head education, compute the average enrollment rate in 1997. Create a scatterplot that shows this relationship. What do you notice?"
   ]
  },
  {
   "cell_type": "code",
   "execution_count": 4,
   "metadata": {
    "collapsed": false
   },
   "outputs": [
    {
     "data": {
      "text/plain": [
       "<matplotlib.text.Text at 0x1135bde90>"
      ]
     },
     "execution_count": 4,
     "metadata": {},
     "output_type": "execute_result"
    },
    {
     "data": {
      "image/png": "[encoded data removed]",
      "text/plain": [
       "<matplotlib.figure.Figure at 0x1134fd650>"
      ]
     },
     "metadata": {},
     "output_type": "display_data"
    }
   ],
   "source": [
    "hoedu_mean_enrollment = progresa_df.groupby(['hohedu']).sc97.mean()\n",
    "fig, ax = plt.subplots(figsize=(9,6))\n",
    "ax.scatter(hoedu_mean_enrollment.index.tolist(), hoedu_mean_enrollment.values)\n",
    "ax.set_title('Head of Household Education vs Enrollment in 1997')\n",
    "ax.set_xlabel('Years of education for head of household')\n",
    "ax.set_ylabel('Average enrollment in schooling in 1997')"
   ]
  },
  {
   "cell_type": "markdown",
   "metadata": {},
   "source": [
    "The general trend points to a higher enrollment in schooling in 1997 for a higher number of years of education for the head of the household. The relationship is unsurprising, considering that it makes sense that parents with more education would probably encourage their children to do the same. \n",
    "\n",
    "Besides the general trend, it seems that at past around 10 years of education, there isn't an observable relationship between the variables. This may point to threshold for parental education vs enrollment in schooling for children.\n",
    "\n",
    "Finally, at 20 years of education we see a baffling outlier. The average enrollment for that group in 1997 is only slightly above 0.5, lower than all of the other group by a wide margin. Maybe this specific subset of the group didn't enroll their children in public education - maybe homeschooling or private schooling is the reason for this difference."
   ]
  },
  {
   "cell_type": "markdown",
   "metadata": {},
   "source": [
    "### 1.5 Graphical exploration, part 2\n",
    "\n",
    "Create a histogram of village enrollment rates **among poor households in treated villages**, before and after treatment. Specifically, for each village, calculate the average rate of enrollment of poor households in treated villages in 1997, then compute the average rate of enrollment of poor households in treated villages in 1998. Create two separate histograms showing the distribution of these average enrollments rates, one histogram for 1997 and one histogram for 1998. On each histogram, draw a vertical line that intersects the x-axis at the average value (across all households). Does there appear to be a difference? Is this difference statistically significant?"
   ]
  },
  {
   "cell_type": "code",
   "execution_count": 5,
   "metadata": {
    "collapsed": false
   },
   "outputs": [
    {
     "data": {
      "text/plain": [
       "(0.5, 1)"
      ]
     },
     "execution_count": 5,
     "metadata": {},
     "output_type": "execute_result"
    },
    {
     "data": {
      "image/png": "[encoded data removed]",
      "text/plain": [
       "<matplotlib.figure.Figure at 0x1137c9f90>"
      ]
     },
     "metadata": {},
     "output_type": "display_data"
    }
   ],
   "source": [
    "treatment_df = progresa_df.groupby(['progresa']).get_group('basal')\n",
    "by_village97 = treatment_df.ix[97].groupby('village')\n",
    "by_village98 = treatment_df.ix[98].groupby('village')\n",
    "\n",
    "fig, axarr = plt.subplots(2)\n",
    "fig.set_size_inches(6,8)\n",
    "\n",
    "treat97 = by_village97.sc.mean()\n",
    "axarr[0].hist(treat97[~np.isnan(treat97)], bins=np.arange(0.5, 1.1, 0.05))\n",
    "axarr[0].axvline(treatment_df.ix[97].sc.mean(), color='red')\n",
    "axarr[0].set_title('Enrollement rates among poor treatment villages, 1997')\n",
    "axarr[0].set_xlabel('Enrollment rate')\n",
    "axarr[0].set_ylabel('Count of villages in bracket')\n",
    "axarr[0].set_xlim([0.5, 1])\n",
    "\n",
    "treat98 = by_village98.sc.mean()\n",
    "axarr[1].hist(treat98[~np.isnan(treat98)], bins=np.arange(0.5, 1.05, 0.05))\n",
    "axarr[1].axvline(treatment_df.ix[98].sc.mean(), color='red')\n",
    "axarr[1].set_title('Enrollement rates among poor treatment villages, 1998')\n",
    "axarr[1].set_xlabel('Enrollment rate')\n",
    "axarr[1].set_ylabel('Count of villages in bracket')\n",
    "axarr[1].set_xlim([0.5, 1])"
   ]
  },
  {
   "cell_type": "markdown",
   "metadata": {},
   "source": [
    "Overall, there seems to be a small but noticeable difference in average enrollment rates of poor, treated villages in 1997 vs 1998. In 1997, it seem that the average enrollment rate is at around 0.815 or so, and jumps to about 0.845 in 1998. It is hard to tell wether this difference is statistically significant just by viewing the two histograms. We can run a simple t-test to check the statistical significance of this finding."
   ]
  },
  {
   "cell_type": "code",
   "execution_count": 6,
   "metadata": {
    "collapsed": false
   },
   "outputs": [
    {
     "data": {
      "text/plain": [
       "Ttest_indResult(statistic=-6.1976243535032669, pvalue=5.7847634518205522e-10)"
      ]
     },
     "execution_count": 6,
     "metadata": {},
     "output_type": "execute_result"
    }
   ],
   "source": [
    "ttest_ind(treatment_df.ix[97].sc, treatment_df.ix[98].sc, nan_policy='omit')"
   ]
  },
  {
   "cell_type": "markdown",
   "metadata": {},
   "source": [
    "We get a p-value of 5.78e-10 from the t-test above for village enrollment rates in 1997 and 1998. Thus we can say that even though the difference is rather small, it is statistically significant for sure."
   ]
  },
  {
   "cell_type": "markdown",
   "metadata": {},
   "source": [
    "## Part 2: Measuring Impact\n",
    "\n",
    "Our goal is to estimate the causal impact of the PROGRESA program on the social and economic outcomes of individuals in Mexico. We will focus on the impact of the program on the poor (those with poor=='pobre'), since only the poor were eligible to receive the PROGRESA assistance.\n",
    "\n",
    "### 2.1 Simple differences: T-test\n",
    "\n",
    "Begin by estimating the impact of Progresa using \"simple differences.\" Restricting yourself to data from 1998 (after treatment), calculate the average enrollment rate among **poor** households in the Treatment villages and the average enrollment rate among **poor** households in the control villages. Use a t-test to determine if this difference is statistically significant. What do you conclude?"
   ]
  },
  {
   "cell_type": "code",
   "execution_count": 7,
   "metadata": {
    "collapsed": false
   },
   "outputs": [
    {
     "name": "stdout",
     "output_type": "stream",
     "text": [
      "Treatment group enrollment mean: 0.846479121395\n",
      "Control group enrollment mean: 0.80763695673\n",
      "Differnce (treat - control): 0.0388421646651\n"
     ]
    },
    {
     "data": {
      "text/plain": [
       "Ttest_indResult(statistic=8.3587205674183735, pvalue=6.6363444473781018e-17)"
      ]
     },
     "execution_count": 7,
     "metadata": {},
     "output_type": "execute_result"
    }
   ],
   "source": [
    "poor_df = progresa_df[progresa_df.poor == 'pobre'].ix[98]\n",
    "\n",
    "treat_enrollment = poor_df[poor_df.progresa == 'basal'].sc\n",
    "control_enrollment = poor_df[poor_df.progresa == '0'].sc\n",
    "\n",
    "treat_mean = treat_enrollment.mean()\n",
    "control_mean = control_enrollment.mean()\n",
    "print 'Treatment group enrollment mean:', treat_mean\n",
    "print 'Control group enrollment mean:', control_mean\n",
    "print 'Differnce (treat - control):', treat_mean - control_mean\n",
    "ttest_ind(treat_enrollment,\n",
    "          control_enrollment,\n",
    "          nan_policy='omit')"
   ]
  },
  {
   "cell_type": "markdown",
   "metadata": {},
   "source": [
    "The differnce in school enrollment rates between treated and untreated villages in 1998, though rather small, is very statistically significant."
   ]
  },
  {
   "cell_type": "markdown",
   "metadata": {},
   "source": [
    "### 2.2 Simple differences: Regression\n",
    "\n",
    "Estimate the effects of Progresa on enrollment using a regression model, by regressing the 1998 enrollment rates **of the poor** on treatment assignment. Discuss the following:\n",
    "\n",
    "* Based on this model, how much did Progresa increase the likelihood of a child enrolling?\n",
    "* How does your regression estimate compare to your t-test estimate from part 2.1?\n",
    "* Based on this regression model, can we reject the null hypothesis that the treatment effects are zero? \n",
    "* What is the counterfactual assumption underlying this regression?"
   ]
  },
  {
   "cell_type": "code",
   "execution_count": 8,
   "metadata": {
    "collapsed": false
   },
   "outputs": [
    {
     "name": "stdout",
     "output_type": "stream",
     "text": [
      "                            OLS Regression Results                            \n",
      "==============================================================================\n",
      "Dep. Variable:                     sc   R-squared:                       0.003\n",
      "Model:                            OLS   Adj. R-squared:                  0.003\n",
      "Method:                 Least Squares   F-statistic:                     69.87\n",
      "Date:                Fri, 22 Apr 2016   Prob (F-statistic):           6.64e-17\n",
      "Time:                        11:28:22   Log-Likelihood:                -11926.\n",
      "No. Observations:               27450   AIC:                         2.386e+04\n",
      "Df Residuals:                   27448   BIC:                         2.387e+04\n",
      "Df Model:                           1                                         \n",
      "Covariance Type:            nonrobust                                         \n",
      "==============================================================================\n",
      "                 coef    std err          t      P>|t|      [95.0% Conf. Int.]\n",
      "------------------------------------------------------------------------------\n",
      "Intercept      0.8076      0.004    220.676      0.000         0.800     0.815\n",
      "progresa       0.0388      0.005      8.359      0.000         0.030     0.048\n",
      "==============================================================================\n",
      "Omnibus:                     7638.939   Durbin-Watson:                   1.734\n",
      "Prob(Omnibus):                  0.000   Jarque-Bera (JB):            15767.534\n",
      "Skew:                          -1.767   Prob(JB):                         0.00\n",
      "Kurtosis:                       4.140   Cond. No.                         3.01\n",
      "==============================================================================\n",
      "\n",
      "Warnings:\n",
      "[1] Standard Errors assume that the covariance matrix of the errors is correctly specified.\n"
     ]
    }
   ],
   "source": [
    "def treatment_to_num(row):\n",
    "    if row.progresa == 'basal':\n",
    "        row.progresa = 1\n",
    "    elif row.progresa == '0':\n",
    "        row.progresa = 0\n",
    "    return row\n",
    "\n",
    "enrollment_df = poor_df.apply(treatment_to_num, axis=1)\n",
    "treat_to_enroll_mod = smf.ols(formula='sc ~ progresa', data=enrollment_df, missing='drop')\n",
    "treat_to_enroll_res = treat_to_enroll_mod.fit()\n",
    "print treat_to_enroll_res.summary()"
   ]
  },
  {
   "cell_type": "markdown",
   "metadata": {},
   "source": [
    "- Based on this model, Progresa increased the likelihood of a chiled enrolling by about 3.88%.\n",
    "- The regression used here and the simple t-test from section 2.1 yield the exact same p-value and measure the same difference between the treated and untreated groups.\n",
    "- Considering that the p-value is exteremely small, we can safely reject the null hypthesis that the are no treatment effects.\n",
    "- The underlying conterfactual is that had the treatment not been administered to the treatment group, then the enrollment rates would have been the same as the untreated village's enrollment rates."
   ]
  },
  {
   "cell_type": "markdown",
   "metadata": {},
   "source": [
    "### 2.3 Multiple Regression\n",
    "\n",
    "Re-run the above regression estimated but this time include a set of control variables. Include, for instance, age, distance to a secondary school, gender, education of household head, welfare index, indigenous, etc.\n",
    "\n",
    "* How do the controls affect the point estimate of treatment effect?\n",
    "* How do the controls affect the standard error on the treatment effect? \n",
    "* How do you interpret the differences (or similarities) between your estimates of 2.2 and 2.3?"
   ]
  },
  {
   "cell_type": "code",
   "execution_count": 9,
   "metadata": {
    "collapsed": false
   },
   "outputs": [
    {
     "name": "stdout",
     "output_type": "stream",
     "text": [
      "                            OLS Regression Results                            \n",
      "==============================================================================\n",
      "Dep. Variable:                     sc   R-squared:                       0.263\n",
      "Model:                            OLS   Adj. R-squared:                  0.263\n",
      "Method:                 Least Squares   F-statistic:                     2444.\n",
      "Date:                Fri, 22 Apr 2016   Prob (F-statistic):               0.00\n",
      "Time:                        11:28:22   Log-Likelihood:                -7778.5\n",
      "No. Observations:               27450   AIC:                         1.557e+04\n",
      "Df Residuals:                   27445   BIC:                         1.561e+04\n",
      "Df Model:                           4                                         \n",
      "Covariance Type:            nonrobust                                         \n",
      "==============================================================================\n",
      "                 coef    std err          t      P>|t|      [95.0% Conf. Int.]\n",
      "------------------------------------------------------------------------------\n",
      "Intercept      1.5510      0.009    169.427      0.000         1.533     1.569\n",
      "progresa       0.0357      0.004      8.923      0.000         0.028     0.043\n",
      "age           -0.0653      0.001    -95.399      0.000        -0.067    -0.064\n",
      "dist_sec      -0.0113      0.001    -12.961      0.000        -0.013    -0.010\n",
      "hohedu         0.0087      0.001     11.149      0.000         0.007     0.010\n",
      "==============================================================================\n",
      "Omnibus:                     3037.715   Durbin-Watson:                   1.710\n",
      "Prob(Omnibus):                  0.000   Jarque-Bera (JB):             4155.146\n",
      "Skew:                          -0.945   Prob(JB):                         0.00\n",
      "Kurtosis:                       3.248   Cond. No.                         58.4\n",
      "==============================================================================\n",
      "\n",
      "Warnings:\n",
      "[1] Standard Errors assume that the covariance matrix of the errors is correctly specified.\n"
     ]
    }
   ],
   "source": [
    "controls_mod = smf.ols('sc ~ progresa + age + dist_sec + hohedu', data=enrollment_df, missing='drop')\n",
    "controls_res = controls_mod.fit()\n",
    "print controls_res.summary()"
   ]
  },
  {
   "cell_type": "markdown",
   "metadata": {},
   "source": [
    "- The controls slightly reduce the point estimate of the treatment effect. It went down from a coefficient of 0.0388 in the simple univariate regression to 0.0357 is this multivariate regression.\n",
    "- It seems that the total std error on the treatment effect actually increased as a result of adding a few more control variables to the regression equation.\n",
    "- The first regression in 2.2 presents a much more simple model of treatment effects, and thus is prone to a lower std error. However, since it only incorporates a single variable it has much less predictive power than the model in 2.3. Even though this multivariate regression has higher standard error, it will probably be more accurate in it's prediction of actual enrollment rateswith the given control variables taken into account."
   ]
  },
  {
   "cell_type": "markdown",
   "metadata": {},
   "source": [
    "### 2.4 Difference-in-Difference, version 1 (tabular)\n",
    "\n",
    "Thus far, we have computed the effects of Progresa by estimating the difference in 1998 enrollment rates across villages. An alternative approach would be to compute the treatment effect using a difference-in-differences framework.\n",
    "\n",
    "Begin by estimating the average treatment effects of the program for poor households using data from 1997 and 1998. Specifically, calculate the difference (between 1997 and 1998) in enrollment rates among poor households in treated villages; then compute the difference (between 1997 and 1998) in enrollment rates among poor households in control villages. The difference between these two differences is your estimate.\n",
    "\n",
    "* What is your estimate of the impact, and how does it compare to your earlier (simple difference) results?\n",
    "* What is the counterfactual assumption underlying this estimate? \n"
   ]
  },
  {
   "cell_type": "code",
   "execution_count": 10,
   "metadata": {
    "collapsed": false
   },
   "outputs": [
    {
     "name": "stdout",
     "output_type": "stream",
     "text": [
      "Control enrollment 1997: 0.815186003058\n",
      "Control enrollment 1998: 0.80763695673\n",
      "Treatment enrollment 1997: 0.822696887403\n",
      "Treatment enrollment 1998 0.846479121395\n",
      "Double difference (T1 - T0) - (C1 - C0): 0.0313312803193\n"
     ]
    }
   ],
   "source": [
    "poor_df = progresa_df.copy()[progresa_df.poor == 'pobre']\n",
    "poor97_groups = poor_df.ix[97].groupby(['progresa'])\n",
    "poor98_groups = poor_df.ix[98].groupby(['progresa'])\n",
    "\n",
    "control_sc97 = poor97_groups.get_group('0').sc.mean()\n",
    "control_sc98 = poor98_groups.get_group('0').sc.mean()\n",
    "treat_sc97 = poor97_groups.get_group('basal').sc.mean()\n",
    "treat_sc98 = poor98_groups.get_group('basal').sc.mean()\n",
    "\n",
    "print \"Control enrollment 1997:\", control_sc97\n",
    "print \"Control enrollment 1998:\", control_sc98\n",
    "print \"Treatment enrollment 1997:\", treat_sc97\n",
    "print \"Treatment enrollment 1998\", treat_sc98\n",
    "\n",
    "print \"Double difference (T1 - T0) - (C1 - C0):\", (treat_sc98 - treat_sc97) - (control_sc98 - control_sc97)"
   ]
  },
  {
   "cell_type": "markdown",
   "metadata": {},
   "source": [
    "- The estimate of the impact of the progresa program shows an increase in school enrollment by an average of %3.13 for treated villages. We predicted a bigger impact with simple difference results, at around a %3.88 increases in school enrollment. In this double difference case we actually accounted for the overall trend of school enrollment and the fact that the treatment villages had a slightly higher enrollment rate in 1997. This is why our predicted impact here is smaller.\n",
    "- The conterfactual in this estimate states that had the treatment group not been administered the treatment in this experiment, then the trend of school enrollment would've been the same between '97-'98 as the control group."
   ]
  },
  {
   "cell_type": "markdown",
   "metadata": {},
   "source": [
    "### 2.5 Difference-in-Difference, version 2 (regression)\n",
    "\n",
    "Now use a regression specification to estimate the average treatment effects of the program in a difference-in-differences framework. Include at least 5 control variables.\n",
    "\n",
    "* What is your estimate of the impact of Progresa? Be very specific in interpreting your coefficients and standard errors, and make sure to specify exactly what units you are measuring and estimating.\n",
    "* How do these estimates of the treatment effect compare to the estimates based on the simple difference?\n",
    "* How do these estimates compare to the difference-in-difference estimates from 2.4 above? What accounts for these differences?\n",
    "* What is the counterfactual assumption underlying this regression? "
   ]
  },
  {
   "cell_type": "code",
   "execution_count": 11,
   "metadata": {
    "collapsed": false
   },
   "outputs": [
    {
     "name": "stdout",
     "output_type": "stream",
     "text": [
      "                            OLS Regression Results                            \n",
      "==============================================================================\n",
      "Dep. Variable:                     sc   R-squared:                       0.275\n",
      "Model:                            OLS   Adj. R-squared:                  0.275\n",
      "Method:                 Least Squares   F-statistic:                     2765.\n",
      "Date:                Fri, 22 Apr 2016   Prob (F-statistic):               0.00\n",
      "Time:                        11:28:23   Log-Likelihood:                -16888.\n",
      "No. Observations:               58345   AIC:                         3.379e+04\n",
      "Df Residuals:                   58336   BIC:                         3.387e+04\n",
      "Df Model:                           8                                         \n",
      "Covariance Type:            nonrobust                                         \n",
      "===================================================================================\n",
      "                      coef    std err          t      P>|t|      [95.0% Conf. Int.]\n",
      "-----------------------------------------------------------------------------------\n",
      "Intercept           1.5040      0.008    188.875      0.000         1.488     1.520\n",
      "progresa            0.0039      0.004      1.019      0.308        -0.004     0.011\n",
      "period              0.0272      0.004      6.236      0.000         0.019     0.036\n",
      "age                -0.0653      0.000   -144.052      0.000        -0.066    -0.064\n",
      "dist_sec           -0.0103      0.001    -16.790      0.000        -0.012    -0.009\n",
      "hohedu              0.0077      0.001     14.233      0.000         0.007     0.009\n",
      "sex                 0.0339      0.003     12.650      0.000         0.029     0.039\n",
      "hohsex              0.0031      0.005      0.592      0.554        -0.007     0.013\n",
      "progresa:period     0.0315      0.006      5.696      0.000         0.021     0.042\n",
      "==============================================================================\n",
      "Omnibus:                     5600.593   Durbin-Watson:                   1.477\n",
      "Prob(Omnibus):                  0.000   Jarque-Bera (JB):             7391.011\n",
      "Skew:                          -0.870   Prob(JB):                         0.00\n",
      "Kurtosis:                       3.117   Cond. No.                         81.2\n",
      "==============================================================================\n",
      "\n",
      "Warnings:\n",
      "[1] Standard Errors assume that the covariance matrix of the errors is correctly specified.\n"
     ]
    }
   ],
   "source": [
    "def progresa_num(val):\n",
    "    if val == 'basal':\n",
    "        return 1\n",
    "    elif val == '0':\n",
    "        return 0\n",
    "    else:\n",
    "        return val\n",
    "\n",
    "poor_df['period'] = poor_df.index.to_series().apply(lambda x: x - 97)\n",
    "poor_df['progresa'] = poor_df.progresa.apply(progresa_num)\n",
    "dd_mod = smf.ols(formula='sc ~ progresa + period + age + dist_sec + hohedu + sex + hohsex + progresa * period', \n",
    "                 data=poor_df)\n",
    "dd_res = dd_mod.fit()\n",
    "print dd_res.summary()"
   ]
  },
  {
   "cell_type": "markdown",
   "metadata": {},
   "source": [
    "- Overall, the impact of progresa by itself reduces to %0.39 percent in this regression. This does not meach much. All it says is that being in the treatment group affects the odds of being enrolled at school even before the treatment is administered. However, the impact of progresa with time (pre/post treatment) comes to about %3.15. The std error of 0.006 for progresa:period represents the treatment * period factor here. It is 0.004 for the period predictor, and 0.004 for the progresa predictor, both of these are smaller than the errors measured for the treatment in the previous regression, but compound together since we have more terms in this equation. The units for these error terms are in % enrollment rate.\n",
    "- Our simple-differences analysis yielded an estimated impact of %3.88 increase in enrollment for treated villages. This a noticeably larger predicted impact than in our regression here. The major difference in this double-difference regression is that we are accounting for overall trends and initial school enrollments for both the control and treatment groups. Considering that, we saw a more diminished impact since we started with hight enrollments for treatment groups at the beginning of the experiment.\n",
    "- The value for the impact of treatment + time is actually very similar to our prediction in the double difference section. We estimated an impact of %3.13 increase in school enrollment for treated villages. That's extremely close to our regression prediction here. Our standard error for progresa has actually decreased significantly from %0.009 enrollment in 2.4 to %0.004. This is likely due to the fact that we have included the period of the study and 1997 survey results. When accounting for the period of the data, we reduced the error that assumed that being in the treatment group inherently increases schooling rates.\n",
    "- The counterfactual here says that if our treatment group (progresa) remained untreated, we would've seen an overall trend in school enrollment rate matching to that of our control group."
   ]
  },
  {
   "cell_type": "markdown",
   "metadata": {},
   "source": [
    "### 2.6 Summary\n",
    "\n",
    "* Based on all the analysis you have undertaken to date, do you believe that Progresa had a causal impact on the enrollment rates of poor households in Mexico? \n",
    "* Describe one other way that you might analyze these data to further investigate the causal impact of Progresa on enrollment, and clearly state the counterfactual assumption you would need to make for that approach to be valid.  *(Hint: Consider using the non-poor in your analysis)*"
   ]
  },
  {
   "cell_type": "markdown",
   "metadata": {},
   "source": [
    "- Based on the analysis I've undertaken, I'm convinced that the progresa program had a measurable, causal impact on the enrollment rates of poor households in mexico. Though it was a small impact of under %4 increase in treated villages, the measured difference was statistically significant. The impact becomes even more significant when we consider that Mexico experienced a trend of decline in school enrollment in untreated poor villages overall. Regradless of what caused this effect, progresa had a clear impact on the villages that it treated.\n",
    "- For further analysis of this data, I would try to compare the overall trends in untreated poor & not poor households to see what the overall schooling trends are for the general population of mexico. I would use this maybe for another regression prediction or a difference-in-difference analysis. It could be that we saw a decrease in school enrollment rates in our control poor villages due to random chance."
   ]
  }
 ],
 "metadata": {
  "kernelspec": {
   "display_name": "Python 2",
   "language": "python",
   "name": "python2"
  },
  "language_info": {
   "codemirror_mode": {
    "name": "ipython",
    "version": 2
   },
   "file_extension": ".py",
   "mimetype": "text/x-python",
   "name": "python",
   "nbconvert_exporter": "python",
   "pygments_lexer": "ipython2",
   "version": "2.7.11"
  }
 },
 "nbformat": 4,
 "nbformat_minor": 0
}
